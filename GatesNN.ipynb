{
 "cells": [
  {
   "cell_type": "code",
   "execution_count": 3,
   "metadata": {},
   "outputs": [],
   "source": [
    "import numpy as np\n",
    "import pandas as pd\n",
    "import matplotlib.pyplot as plt\n",
    "import seaborn as sns\n",
    "import plotly.express as px"
   ]
  },
  {
   "cell_type": "code",
   "execution_count": 4,
   "metadata": {},
   "outputs": [],
   "source": [
    "import math\n"
   ]
  },
  {
   "cell_type": "code",
   "execution_count": 5,
   "metadata": {},
   "outputs": [],
   "source": [
    "class Value:\n",
    "    def __init__(self,data,_children = (),_op='',label=''):\n",
    "        self.data = data\n",
    "        self._prev = set(_children)\n",
    "        self._op = _op\n",
    "        self.label = label\n",
    "        self.grad = 0.0\n",
    "        self._backward = lambda:None\n",
    "        \n",
    "    def __repr__(self):\n",
    "        return f\"Value(data={self.data})\"\n",
    "    \n",
    "    def __add__(self,other):\n",
    "        other = other if isinstance(other,Value) else Value(other)\n",
    "        out = Value(self.data + other.data,(self,other),'+')\n",
    "        def _backward():\n",
    "            self.grad += 1.0 * out.grad\n",
    "            other.grad += 1.0 * out.grad\n",
    "        out._backward =_backward\n",
    "        return out\n",
    "    \n",
    "    def __mul__(self,other):\n",
    "        other = other if isinstance(other,Value) else Value(other)\n",
    "        out = Value(self.data * other.data,(self,other),'*')\n",
    "        def _backward():\n",
    "            self.grad += other.data * out.grad\n",
    "            other.grad += self.data * out.grad\n",
    "        \n",
    "        out._backward = _backward\n",
    "        return out\n",
    "    \n",
    "    def __rmul__(self,other):\n",
    "        return  self * other\n",
    "    \n",
    "    def __truediv__(self,other):\n",
    "        return self * other**-1\n",
    "    \n",
    "    def __pow__(self,other):\n",
    "        assert isinstance(other,(int,float)),\"only supporting int/float\"\n",
    "        out = Value(self.data**other,(self, ),f'**{other}')\n",
    "        \n",
    "        def _backward():\n",
    "            self.grad += other * self.data**(other-1) * out.grad\n",
    "        out._backward = _backward\n",
    "        return out\n",
    "    \n",
    "    def exp(self):\n",
    "        x = self.data\n",
    "        out = Value(math.exp(x),(self, ),'exp')\n",
    "        \n",
    "        def _backward():\n",
    "            self.grad += out.data * out.grad\n",
    "        out._backward = _backward\n",
    "        return out\n",
    "    \n",
    "    def __sub__(self,other):\n",
    "        return self+(-other)\n",
    "    \n",
    "    def tanh(self):\n",
    "        x = self.data\n",
    "        t = (math.exp(2*x)-1)/(math.exp(2*x)+1)\n",
    "        out = Value(t,(self,),'tanh')\n",
    "        def _backward():\n",
    "            self.grad += (1-t**2)*out.grad\n",
    "        \n",
    "        out._backward = _backward\n",
    "        return out\n",
    "    \n",
    "    def backward(self):\n",
    "        #topological sort\n",
    "        topo = []\n",
    "        visited =set()\n",
    "        def buildTopo(v):\n",
    "            if v not in visited:\n",
    "                visited.add(v)\n",
    "                for child in v._prev:\n",
    "                    buildTopo(child)\n",
    "                topo.append(v)\n",
    "        buildTopo(self)\n",
    "        self.grad = 1.0\n",
    "        for node in reversed(topo):\n",
    "            node._backward()"
   ]
  },
  {
   "cell_type": "code",
   "execution_count": 6,
   "metadata": {},
   "outputs": [],
   "source": [
    "from graphviz import Digraph\n",
    "def trace(root):\n",
    "    nodes,edges = set(),set()\n",
    "    def build(v):\n",
    "        if v not in nodes:\n",
    "            nodes.add(v)\n",
    "            for child in v._prev:\n",
    "                edges.add((child,v))\n",
    "                build(child)\n",
    "    build(root)\n",
    "    return nodes,edges\n",
    "\n",
    "def draw_dot(root):\n",
    "    dot = Digraph(format ='svg',graph_attr={'rankdir':'LR'})\n",
    "    nodes, edges = trace(root)\n",
    "    for n in nodes:\n",
    "        uid = str(id(n))\n",
    "        dot.node(name = uid,label = \"{ %s | data %.4f | grad %.4f }\" % (n.label,n.data,n.grad),shape='record')\n",
    "        if(n._op):\n",
    "            dot.node(name=uid+n._op,label=n._op)\n",
    "            dot.edge(uid+n._op,uid)\n",
    "    for n1,n2 in edges:\n",
    "        dot.edge(str(id(n1)),str(id(n2))+n2._op)\n",
    "        \n",
    "    return dot"
   ]
  },
  {
   "cell_type": "code",
   "execution_count": 7,
   "metadata": {},
   "outputs": [],
   "source": [
    "import random"
   ]
  },
  {
   "cell_type": "code",
   "execution_count": 8,
   "metadata": {},
   "outputs": [],
   "source": [
    "class Neuron:\n",
    "    def __init__(self,nin):\n",
    "        self.w = [Value(random.uniform(-1,1)) for _ in range(nin)]\n",
    "        self.b = Value(random.uniform(-1,1))\n",
    "    def __call__(self,x):\n",
    "        act = Value(0)\n",
    "        arr = [wi*xi for wi,xi in zip(self.w,x)]+[self.b]\n",
    "        for i,j in enumerate(arr):\n",
    "            act = act + arr[i]\n",
    "        out = act.tanh()\n",
    "        return out\n",
    "    def parameters(self):\n",
    "        return self.w + [self.b]\n",
    "    \n",
    "    \n",
    "class Layer:\n",
    "    def __init__(self,nin,nout):\n",
    "        self.neurons = [Neuron(nin) for _ in range(nout)]\n",
    "        \n",
    "    def __call__(self,x):\n",
    "        outs = [n(x) for n in self.neurons]\n",
    "        return outs[0] if len(outs)==1 else outs\n",
    "    def parameters(self):\n",
    "        return [p for neuron in self.neurons for p in neuron.parameters()]\n",
    "    \n",
    "class MLP:\n",
    "    def __init__(self,nin,nouts):\n",
    "        sz = [nin]+nouts\n",
    "        self.layers = [Layer(sz[i],sz[i+1]) for i in range(len(nouts))]\n",
    "    def __call__(self,x):\n",
    "        for layer in self.layers:\n",
    "            x = layer(x)\n",
    "        return x\n",
    "    def parameters(self):\n",
    "        return [p for layers in self.layers for p in layers.parameters()]"
   ]
  },
  {
   "cell_type": "code",
   "execution_count": 9,
   "metadata": {},
   "outputs": [
    {
     "data": {
      "text/plain": [
       "41"
      ]
     },
     "execution_count": 9,
     "metadata": {},
     "output_type": "execute_result"
    }
   ],
   "source": [
    "x = [2.0,3.0,-1.0]\n",
    "n3 = MLP(3,[4,4,1])\n",
    "len(n3.parameters())\n"
   ]
  },
  {
   "cell_type": "code",
   "execution_count": 12,
   "metadata": {},
   "outputs": [],
   "source": [
    "def generateT(a):\n",
    "    if a == '&' :\n",
    "        xs = [\n",
    "            [0.0,0.0],\n",
    "            [0.0,1.0],\n",
    "            [1.0,0.0],\n",
    "            [1.0,1.0],\n",
    "        ]\n",
    "        ys = [0.0,1.0,1.0,0.0]\n",
    "        return xs,ys\n",
    "    elif a == '|' :\n",
    "        xs = [\n",
    "            [0.0,0.0],\n",
    "            [0.0,1.0],\n",
    "            [1.0,0.0],\n",
    "            [1.0,1.0],\n",
    "        ]\n",
    "        ys = [0.0,1.0,1.0,0.0]\n",
    "        return xs,ys\n",
    "    elif a == '^' :\n",
    "        xs = [\n",
    "            [0.0,0.0],\n",
    "            [0.0,1.0],\n",
    "            [1.0,0.0],\n",
    "            [1.0,1.0],\n",
    "        ]\n",
    "        ys = [0.0,1.0,1.0,0.0]\n",
    "        return xs,ys\n",
    "    else :\n",
    "        return \"Enter & | ^\""
   ]
  },
  {
   "cell_type": "code",
   "execution_count": 13,
   "metadata": {},
   "outputs": [
    {
     "name": "stdout",
     "output_type": "stream",
     "text": [
      "Value(data=1.8923079788564003)\n",
      "[Value(data=-0.12685659848717715), Value(data=0.03868898696052555), Value(data=0.03793867328519178), Value(data=0.1628942053156771)]\n"
     ]
    }
   ],
   "source": [
    "input1 = '&'\n",
    "user_input = generateT(input1)\n",
    "ypred = [n3(x) for x in user_input[0]]\n",
    "arr = [(yout - ygt) ** 2 for ygt,yout in zip(user_input[1],ypred)]\n",
    "loss = Value(0)\n",
    "for i,j in enumerate(arr):\n",
    "    loss = loss + arr[i]\n",
    "print(loss)\n",
    "print(ypred)\n",
    "    "
   ]
  },
  {
   "cell_type": "code",
   "execution_count": null,
   "metadata": {},
   "outputs": [],
   "source": [
    "loss.backward()"
   ]
  },
  {
   "cell_type": "code",
   "execution_count": null,
   "metadata": {},
   "outputs": [
    {
     "data": {
      "text/plain": [
       "2.2422992491220475"
      ]
     },
     "execution_count": 186,
     "metadata": {},
     "output_type": "execute_result"
    }
   ],
   "source": [
    "n3.layers[0].neurons[0].w[0].data"
   ]
  },
  {
   "cell_type": "code",
   "execution_count": null,
   "metadata": {},
   "outputs": [
    {
     "name": "stdout",
     "output_type": "stream",
     "text": [
      "Value(data=1.2378710729825149)\n",
      "Value(data=1.1887376928932594)\n",
      "Value(data=1.0151659181558483)\n",
      "Value(data=0.9840154086644087)\n",
      "Value(data=0.9587444672194526)\n",
      "Value(data=0.9363549251998382)\n",
      "Value(data=0.9144083166805445)\n",
      "Value(data=0.8922321681959703)\n",
      "Value(data=0.8689582348203797)\n",
      "Value(data=0.8444102484728585)\n",
      "Value(data=0.8182045303929864)\n",
      "Value(data=0.7903430063513939)\n",
      "Value(data=0.7606416193651098)\n",
      "Value(data=0.7293120114095492)\n",
      "Value(data=0.6963024999907097)\n",
      "Value(data=0.6624336739486745)\n",
      "Value(data=0.6277283717782246)\n",
      "Value(data=0.5956193446280553)\n",
      "Value(data=0.5650147225927065)\n",
      "Value(data=0.5536056372052721)\n",
      "Value(data=0.5394922399069076)\n",
      "Value(data=0.6159478624695984)\n",
      "Value(data=0.5400933898491929)\n",
      "Value(data=0.7185624756502944)\n",
      "Value(data=0.4306832778548828)\n",
      "Value(data=0.5388100082975009)\n",
      "Value(data=0.42662686045404036)\n",
      "Value(data=0.586866010603204)\n",
      "Value(data=0.3483989074957109)\n",
      "Value(data=0.45567218555066624)\n",
      "Value(data=0.32643647700044576)\n",
      "Value(data=0.4266067933667252)\n",
      "Value(data=0.28466768384245056)\n",
      "Value(data=0.3539660550784474)\n",
      "Value(data=0.2504398891093175)\n",
      "Value(data=0.2950173933328673)\n",
      "Value(data=0.21747142512698925)\n",
      "Value(data=0.2421692319671932)\n",
      "Value(data=0.1863738239370627)\n",
      "Value(data=0.1972589872547758)\n",
      "Value(data=0.15794992439416056)\n",
      "Value(data=0.16041901365122896)\n",
      "Value(data=0.13291916754430994)\n",
      "Value(data=0.13091768160550735)\n",
      "Value(data=0.11160765866806184)\n",
      "Value(data=0.10763525446747338)\n",
      "Value(data=0.0939272701467119)\n",
      "Value(data=0.08939435232312319)\n",
      "Value(data=0.07951569206183344)\n",
      "Value(data=0.07513253436062003)\n",
      "Value(data=0.06789137369121095)\n",
      "Value(data=0.06396323517415274)\n",
      "Value(data=0.05856093345462824)\n",
      "Value(data=0.0551776635098931)\n",
      "Value(data=0.05107581319004455)\n",
      "Value(data=0.048222608110989364)\n",
      "Value(data=0.04505415916467173)\n",
      "Value(data=0.042672131942633355)\n",
      "Value(data=0.040183444970152804)\n",
      "Value(data=0.038200810737585925)\n",
      "Value(data=0.036214121532099054)\n",
      "Value(data=0.03456105758444506)\n",
      "Value(data=0.03295005875801933)\n",
      "Value(data=0.03156487497486993)\n",
      "Value(data=0.030238662142851907)\n",
      "Value(data=0.029069565023491707)\n",
      "Value(data=0.027961935280797167)\n",
      "Value(data=0.026966714371385765)\n",
      "Value(data=0.026028924616021153)\n",
      "Value(data=0.025173787035829887)\n",
      "Value(data=0.02436958035924283)\n",
      "Value(data=0.02362775056880355)\n",
      "Value(data=0.022929892986001902)\n",
      "Value(data=0.0222802666284449)\n",
      "Value(data=0.02166810562515885)\n",
      "Value(data=0.0210940742323437)\n",
      "Value(data=0.020551799010730766)\n",
      "Value(data=0.020040276124975793)\n",
      "Value(data=0.019555666214422732)\n",
      "Value(data=0.019096305415817725)\n",
      "Value(data=0.01865982315543297)\n",
      "Value(data=0.018244402563327444)\n",
      "Value(data=0.01784853013536027)\n",
      "Value(data=0.017470474077586305)\n",
      "Value(data=0.01710922593690248)\n",
      "Value(data=0.016763236149984578)\n",
      "Value(data=0.01643179816900475)\n",
      "Value(data=0.01611357071812607)\n",
      "Value(data=0.015808031463719476)\n",
      "Value(data=0.015514039871218062)\n",
      "Value(data=0.015231189255672057)\n",
      "Value(data=0.014958518336357154)\n",
      "Value(data=0.014695695803080515)\n",
      "Value(data=0.014441914134387964)\n",
      "Value(data=0.01419689345163801)\n",
      "Value(data=0.013959955201490657)\n",
      "Value(data=0.013730856449987556)\n",
      "Value(data=0.013509025495144749)\n",
      "Value(data=0.01329424736158945)\n",
      "Value(data=0.013086038342583352)\n"
     ]
    }
   ],
   "source": [
    "def modelfit(userinput,epochs):\n",
    "    user_input = generateT(userinput)\n",
    "    epochs = 100\n",
    "    for i in range(epochs):\n",
    "        ypred = [n3(x) for x in user_input[0]]\n",
    "        arr = [(yout - ygt) ** 2 for ygt,yout in zip(user_input[1],ypred)]\n",
    "        loss = Value(0)\n",
    "        for i,j in enumerate(arr):\n",
    "            loss = loss + arr[i]\n",
    "        for p in n3.parameters():\n",
    "            p.grad = 0.0\n",
    "        loss.backward()\n",
    "        for p in n3.parameters():\n",
    "            p.data += -0.1*p.grad\n",
    "        print(loss)"
   ]
  },
  {
   "cell_type": "code",
   "execution_count": null,
   "metadata": {},
   "outputs": [
    {
     "data": {
      "text/plain": [
       "[Value(data=0.004685942631777358),\n",
       " Value(data=0.9203000804015056),\n",
       " Value(data=0.9194518524159522),\n",
       " Value(data=0.00470811377868018)]"
      ]
     },
     "execution_count": 249,
     "metadata": {},
     "output_type": "execute_result"
    }
   ],
   "source": [
    "[n3(x) for x in xs]\n"
   ]
  },
  {
   "cell_type": "code",
   "execution_count": null,
   "metadata": {},
   "outputs": [],
   "source": []
  }
 ],
 "metadata": {
  "kernelspec": {
   "display_name": "python_eda2",
   "language": "python",
   "name": "python3"
  },
  "language_info": {
   "codemirror_mode": {
    "name": "ipython",
    "version": 3
   },
   "file_extension": ".py",
   "mimetype": "text/x-python",
   "name": "python",
   "nbconvert_exporter": "python",
   "pygments_lexer": "ipython3",
   "version": "3.9.18"
  },
  "orig_nbformat": 4
 },
 "nbformat": 4,
 "nbformat_minor": 2
}
